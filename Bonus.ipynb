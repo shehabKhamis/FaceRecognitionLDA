{
  "nbformat": 4,
  "nbformat_minor": 0,
  "metadata": {
    "colab": {
      "name": "Bonus.ipynb",
      "provenance": [],
      "collapsed_sections": []
    },
    "kernelspec": {
      "display_name": "Python 3",
      "name": "python3"
    },
    "language_info": {
      "name": "python"
    }
  },
  "cells": [
    {
      "cell_type": "code",
      "metadata": {
        "colab": {
          "base_uri": "https://localhost:8080/"
        },
        "id": "9EVB4zAyLl4f",
        "outputId": "6ec69ef3-e735-4742-bd10-4899589b0181"
      },
      "source": [
        "from google.colab import drive\n",
        "drive.mount('/content/drive')"
      ],
      "execution_count": null,
      "outputs": [
        {
          "output_type": "stream",
          "text": [
            "Mounted at /content/drive\n"
          ],
          "name": "stdout"
        }
      ]
    },
    {
      "cell_type": "code",
      "metadata": {
        "id": "M6cV1I_RNjB7"
      },
      "source": [
        "from matplotlib.image import imread\n",
        "import numpy as np\n",
        "from PIL import Image\n",
        "import cv2 \n",
        "import os \n",
        "import glob \n",
        "from numpy.linalg import eig\n",
        "from numpy import array\n",
        "import matplotlib.pyplot as plt\n",
        "from sklearn.neighbors import KNeighborsClassifier\n",
        "from numpy import linalg as LA\n"
      ],
      "execution_count": null,
      "outputs": []
    },
    {
      "cell_type": "markdown",
      "metadata": {
        "id": "8jnUuvffFCva"
      },
      "source": [
        "**Bonus**"
      ]
    },
    {
      "cell_type": "code",
      "metadata": {
        "colab": {
          "base_uri": "https://localhost:8080/"
        },
        "id": "c895gI1_FLIL",
        "outputId": "e745682a-2f04-4c27-964c-05021a2f9df3"
      },
      "source": [
        "images = []\n",
        "for filename in sorted(os.listdir(\"/content/drive/MyDrive/ORL\")):\n",
        "    img = cv2.imread(os.path.join(\"/content/drive/MyDrive/ORL\",filename),cv2.IMREAD_GRAYSCALE)\n",
        "    if img is not None:\n",
        "       ar=img.flatten()\n",
        "     \n",
        "       images.append(ar)\n",
        "#images  \n",
        "data =np.array(images)\n",
        "data"
      ],
      "execution_count": null,
      "outputs": [
        {
          "output_type": "execute_result",
          "data": {
            "text/plain": [
              "array([[ 34,  34,  33, ...,  37,  40,  33],\n",
              "       [ 42,  41,  44, ...,  42,  43,  41],\n",
              "       [ 48,  49,  45, ...,  47,  46,  46],\n",
              "       ...,\n",
              "       [113, 112, 111, ...,  87,  87,  89],\n",
              "       [112, 109, 116, ...,  93,  88,  92],\n",
              "       [111, 114, 112, ...,  88,  86,  92]], dtype=uint8)"
            ]
          },
          "metadata": {
            "tags": []
          },
          "execution_count": 3
        }
      ]
    },
    {
      "cell_type": "code",
      "metadata": {
        "colab": {
          "base_uri": "https://localhost:8080/"
        },
        "id": "O5FRhRPjFXez",
        "outputId": "40faad3c-d773-4514-fc74-588d4c47cb39"
      },
      "source": [
        "vec=np.empty([400,1])\n",
        "count=0;\n",
        "for i in range(0,400):\n",
        "  if (i%10==0):\n",
        "    count+=1\n",
        "  vec[i]=count\n",
        "  \n",
        "DataLab=np.hstack((data,vec)) \n",
        "DataLab.shape\n"
      ],
      "execution_count": null,
      "outputs": [
        {
          "output_type": "execute_result",
          "data": {
            "text/plain": [
              "(400, 10305)"
            ]
          },
          "metadata": {
            "tags": []
          },
          "execution_count": 4
        }
      ]
    },
    {
      "cell_type": "markdown",
      "metadata": {
        "id": "SG7AqLW3wiOd"
      },
      "source": [
        "**Use different Training and Test splits. Change the number of\n",
        "instances per subject to be 7 and keep 3 instances per subject for testing.**"
      ]
    },
    {
      "cell_type": "code",
      "metadata": {
        "colab": {
          "base_uri": "https://localhost:8080/"
        },
        "id": "WjQgqmLcEh3_",
        "outputId": "5c6d3188-21be-4786-aad4-12ead2bacfc1"
      },
      "source": [
        "test=[]\n",
        "train=[]\n",
        "trainVec=np.empty([160,1])\n",
        "testVec=np.empty([120,1])\n",
        "k=0\n",
        "l=0\n",
        "flag=0\n",
        "counter1=7\n",
        "counter2=0\n",
        "for i in range(1,400):\n",
        "  if (counter1>0 and flag ==0 ):\n",
        "    if (i%2==0):\n",
        "      test.append(data[i])\n",
        "      testVec[l]=DataLab[i,10304]\n",
        "      l+=1\n",
        "    else :\n",
        "      train.append(data[i]) \n",
        "      trainVec[k]=DataLab[i,10304]\n",
        "      k+=1\n",
        "    counter1-=1\n",
        "    if (counter1==0):\n",
        "      flag=1\n",
        "    counter2=3\n",
        "    continue\n",
        "  if (counter2 > 0):\n",
        "  \n",
        "    \n",
        "    counter2-=1\n",
        "    if (counter2==0):\n",
        "      flag=0\n",
        "    counter1=7 \n",
        "train=np.array(train)\n",
        "test=np.array(test)\n",
        "print(train.shape)\n",
        "print(test.shape)\n",
        "print(trainVec.shape)\n",
        "print(testVec.shape)"
      ],
      "execution_count": null,
      "outputs": [
        {
          "output_type": "stream",
          "text": [
            "(160, 10304)\n",
            "(120, 10304)\n",
            "(160, 1)\n",
            "(120, 1)\n"
          ],
          "name": "stdout"
        }
      ]
    },
    {
      "cell_type": "code",
      "metadata": {
        "colab": {
          "base_uri": "https://localhost:8080/"
        },
        "id": "L1XJ2zXcKzhp",
        "outputId": "388937fc-d6bd-4e04-83fd-0d82d1be376d"
      },
      "source": [
        "mean=[]\n",
        "temp=[]\n",
        "count=0\n",
        "temp.append(train[0])\n",
        "for i in range(1,160):\n",
        "  if (i%4==0):\n",
        "    mean.append(np.mean(temp,0))\n",
        "    temp.clear()\n",
        "    count+=1\n",
        "  temp.append(train[i])\n",
        " \n",
        "mean.append(np.mean(temp,0))\n",
        "\n",
        "mean=np.array(mean)\n",
        "print(mean.shape)\n",
        "mean\n"
      ],
      "execution_count": null,
      "outputs": [
        {
          "output_type": "stream",
          "text": [
            "(40, 10304)\n"
          ],
          "name": "stdout"
        },
        {
          "output_type": "execute_result",
          "data": {
            "text/plain": [
              "array([[ 52.  ,  51.  ,  45.5 , ...,  68.25,  60.  ,  67.  ],\n",
              "       [136.5 , 135.  , 135.5 , ...,  20.25,  21.75,  31.5 ],\n",
              "       [ 49.5 ,  47.75,  46.25, ...,  30.75,  30.5 ,  34.75],\n",
              "       ...,\n",
              "       [ 55.5 ,  54.  ,  55.  , ...,  64.5 ,  62.5 ,  61.25],\n",
              "       [122.  , 120.  , 122.25, ...,  62.  ,  62.25,  60.  ],\n",
              "       [109.25, 111.  , 110.75, ...,  84.  ,  83.5 ,  81.  ]])"
            ]
          },
          "metadata": {
            "tags": []
          },
          "execution_count": 6
        }
      ]
    },
    {
      "cell_type": "code",
      "metadata": {
        "colab": {
          "base_uri": "https://localhost:8080/"
        },
        "id": "OAtKfa47LoDj",
        "outputId": "aa31d23e-459b-4c10-8039-235f77de45fb"
      },
      "source": [
        "overallMean=np.mean(train,0)\n",
        "\n",
        "Sb=np.zeros((10304,10304))\n",
        "\n",
        "temp=np.empty([10304,1])\n",
        "for i in range(0,40):\n",
        "  \n",
        "  temp=np.subtract(mean[i].reshape(10304,1),overallMean.reshape(10304,1))\n",
        "  temp=4*temp\n",
        "  Sb=np.add(Sb,np.dot(temp,np.transpose(temp)))\n",
        " \n",
        "\n",
        "Sb\n"
      ],
      "execution_count": null,
      "outputs": [
        {
          "output_type": "execute_result",
          "data": {
            "text/plain": [
              "array([[ 749103.6  ,  749524.4  ,  739583.4  , ..., -110906.8  ,\n",
              "         -84074.8  ,  -61167.2  ],\n",
              "       [ 749524.4  ,  752546.975,  741335.225, ..., -105461.2  ,\n",
              "         -80509.95 ,  -57374.3  ],\n",
              "       [ 739583.4  ,  741335.225,  732708.975, ..., -113118.2  ,\n",
              "         -86204.45 ,  -65252.3  ],\n",
              "       ...,\n",
              "       [-110906.8  , -105461.2  , -113118.2  , ..., 1145148.4  ,\n",
              "        1051155.4  , 1017728.6  ],\n",
              "       [ -84074.8  ,  -80509.95 ,  -86204.45 , ..., 1051155.4  ,\n",
              "         994803.9  ,  970391.6  ],\n",
              "       [ -61167.2  ,  -57374.3  ,  -65252.3  , ..., 1017728.6  ,\n",
              "         970391.6  ,  977766.4  ]])"
            ]
          },
          "metadata": {
            "tags": []
          },
          "execution_count": 7
        }
      ]
    },
    {
      "cell_type": "code",
      "metadata": {
        "colab": {
          "base_uri": "https://localhost:8080/"
        },
        "id": "t4rohjRuL07R",
        "outputId": "d2dc4606-6aeb-4c05-8c37-276d8cd41515"
      },
      "source": [
        "#computing S total=s1+s2+s3+...\n",
        "temp=[]\n",
        "temp.append(train[0])\n",
        "empty=[]\n",
        "k=0\n",
        "St=np.zeros((10304,10304))\n",
        "Sk=[]\n",
        "centered=[]\n",
        "for i in range(1,160):\n",
        "  if (i%4==0):\n",
        "    centered=temp-np.transpose(mean[k])\n",
        "    \n",
        "    temp.clear()\n",
        "    k+=1\n",
        "    Sk=np.dot(np.transpose(centered),centered)\n",
        "    centered=np.array(empty)\n",
        "   \n",
        "    \n",
        "    St=np.add(St,Sk)\n",
        "  temp.append(train[i])\n",
        "centered=temp-np.transpose(mean[k])\n",
        " \n",
        "temp.clear()\n",
        "k+=1\n",
        "Sk=np.dot(np.transpose(centered),centered)\n",
        "centered=np.array(empty)\n",
        "St=np.add(St,Sk)\n",
        "St"
      ],
      "execution_count": null,
      "outputs": [
        {
          "output_type": "execute_result",
          "data": {
            "text/plain": [
              "array([[18664.5 , 17874.5 , 17934.75, ...,  1586.5 ,  -400.5 , -1731.  ],\n",
              "       [17874.5 , 19410.25, 18666.25, ...,   824.75, -2017.75, -2338.  ],\n",
              "       [17934.75, 18666.25, 20335.25, ...,  1293.5 ,  -826.75, -1593.75],\n",
              "       ...,\n",
              "       [ 1586.5 ,   824.75,  1293.5 , ..., 71872.5 , 56728.25, 51422.25],\n",
              "       [ -400.5 , -2017.75,  -826.75, ..., 56728.25, 74410.  , 65149.25],\n",
              "       [-1731.  , -2338.  , -1593.75, ..., 51422.25, 65149.25, 78901.5 ]])"
            ]
          },
          "metadata": {
            "tags": []
          },
          "execution_count": 8
        }
      ]
    },
    {
      "cell_type": "code",
      "metadata": {
        "id": "Hgmmh_mKMndy"
      },
      "source": [
        "stInv=LA.inv(St)\n",
        "arr=np.dot(stInv,Sb)\n"
      ],
      "execution_count": null,
      "outputs": []
    },
    {
      "cell_type": "code",
      "metadata": {
        "colab": {
          "base_uri": "https://localhost:8080/"
        },
        "id": "3tS_5h7bN5Pw",
        "outputId": "e1908d02-e8f4-48d7-9674-cdd48f05a8d0"
      },
      "source": [
        "eigen_values, eigen_vectors =LA.eigh(arr)\n",
        "w=np.real( np.delete(eigen_vectors, np.s_[0:10265], axis=1)   )\n",
        "print(w)\n",
        "trainRed=np.zeros((160,39))\n",
        "testRed=np.zeros((120,39))\n",
        "trainRed=np.dot(train,w)\n",
        "testRed=np.dot(test,w)"
      ],
      "execution_count": null,
      "outputs": [
        {
          "output_type": "stream",
          "text": [
            "[[ 0.00239231 -0.00927234  0.00746086 ... -0.00296065  0.00176506\n",
            "  -0.00194198]\n",
            " [ 0.00298689 -0.01148162  0.00994731 ... -0.00334391  0.00200062\n",
            "  -0.00220199]\n",
            " [ 0.00241488 -0.00942156  0.00742204 ... -0.00287737  0.00171182\n",
            "  -0.00187888]\n",
            " ...\n",
            " [-0.00563782 -0.00029528 -0.00695126 ... -0.00165264 -0.0015103\n",
            "  -0.00242767]\n",
            " [ 0.00875538  0.00445979  0.00499052 ...  0.00396219  0.00348312\n",
            "   0.00380923]\n",
            " [-0.00016156 -0.00325369  0.0013149  ... -0.00148604 -0.00086312\n",
            "  -0.00124438]]\n"
          ],
          "name": "stdout"
        }
      ]
    },
    {
      "cell_type": "code",
      "metadata": {
        "colab": {
          "base_uri": "https://localhost:8080/"
        },
        "id": "Lrn7BpSOOHdw",
        "outputId": "61c36ba5-50f9-4727-f68c-2bb967650c91"
      },
      "source": [
        "classifier = KNeighborsClassifier(n_neighbors=1)\n",
        "classifier.fit(trainRed, trainVec.ravel())  \n",
        "test_predict = classifier.predict(testRed)   \n",
        "true_predicted_count=0\n",
        "for j in range(0,120):\n",
        "   if test_predict[j] ==testVec[j]:\n",
        "      true_predicted_count+=1\n",
        "\n",
        "true_predicted_count\n",
        "accuracy=true_predicted_count/120\n",
        "accuracy=accuracy*100\n",
        "accuracy"
      ],
      "execution_count": null,
      "outputs": [
        {
          "output_type": "execute_result",
          "data": {
            "text/plain": [
              "91.66666666666666"
            ]
          },
          "metadata": {
            "tags": []
          },
          "execution_count": 11
        }
      ]
    },
    {
      "cell_type": "code",
      "metadata": {
        "colab": {
          "base_uri": "https://localhost:8080/"
        },
        "id": "grwc2AfNBJoZ",
        "outputId": "716f523e-9bd1-4791-fb56-a25b14f62433"
      },
      "source": [
        "from sklearn.preprocessing import StandardScaler\n",
        "scaler = StandardScaler()\n",
        "scaler.fit(trainRed)\n",
        "\n",
        "train_pca3 = scaler.transform(trainRed)\n",
        "test_pca3 = scaler.transform(testRed)\n",
        "\n",
        "from sklearn.neighbors import KNeighborsClassifier\n",
        "classifier = KNeighborsClassifier(n_neighbors=1)\n",
        "classifier.fit(trainRed, trainVec)\n",
        "\n",
        "y_pred = classifier.predict(testRed)\n",
        "\n",
        "from sklearn.metrics import classification_report, confusion_matrix\n",
        "print(confusion_matrix(testVec, y_pred))\n",
        "print(classification_report(testVec, y_pred))"
      ],
      "execution_count": null,
      "outputs": [
        {
          "output_type": "stream",
          "text": [
            "[[1 0 0 ... 0 0 0]\n",
            " [0 2 0 ... 0 1 0]\n",
            " [0 0 3 ... 0 0 0]\n",
            " ...\n",
            " [0 0 0 ... 2 0 0]\n",
            " [0 0 0 ... 0 3 0]\n",
            " [0 0 0 ... 0 0 3]]\n",
            "              precision    recall  f1-score   support\n",
            "\n",
            "         1.0       1.00      0.33      0.50         3\n",
            "         2.0       1.00      0.67      0.80         3\n",
            "         3.0       1.00      1.00      1.00         3\n",
            "         4.0       1.00      1.00      1.00         3\n",
            "         5.0       1.00      1.00      1.00         3\n",
            "         6.0       1.00      1.00      1.00         3\n",
            "         7.0       0.75      1.00      0.86         3\n",
            "         8.0       0.75      1.00      0.86         3\n",
            "         9.0       1.00      1.00      1.00         3\n",
            "        10.0       0.75      1.00      0.86         3\n",
            "        11.0       1.00      0.67      0.80         3\n",
            "        12.0       0.75      1.00      0.86         3\n",
            "        13.0       1.00      1.00      1.00         3\n",
            "        14.0       0.75      1.00      0.86         3\n",
            "        15.0       1.00      1.00      1.00         3\n",
            "        16.0       1.00      1.00      1.00         3\n",
            "        17.0       1.00      1.00      1.00         3\n",
            "        18.0       0.75      1.00      0.86         3\n",
            "        19.0       1.00      0.67      0.80         3\n",
            "        20.0       1.00      1.00      1.00         3\n",
            "        21.0       0.75      1.00      0.86         3\n",
            "        22.0       1.00      1.00      1.00         3\n",
            "        23.0       1.00      1.00      1.00         3\n",
            "        24.0       1.00      1.00      1.00         3\n",
            "        25.0       1.00      0.67      0.80         3\n",
            "        26.0       1.00      1.00      1.00         3\n",
            "        27.0       1.00      1.00      1.00         3\n",
            "        28.0       1.00      1.00      1.00         3\n",
            "        29.0       0.50      0.33      0.40         3\n",
            "        30.0       0.75      1.00      0.86         3\n",
            "        31.0       1.00      1.00      1.00         3\n",
            "        32.0       1.00      1.00      1.00         3\n",
            "        33.0       1.00      1.00      1.00         3\n",
            "        34.0       1.00      1.00      1.00         3\n",
            "        35.0       1.00      1.00      1.00         3\n",
            "        36.0       1.00      0.67      0.80         3\n",
            "        37.0       1.00      1.00      1.00         3\n",
            "        38.0       1.00      0.67      0.80         3\n",
            "        39.0       0.75      1.00      0.86         3\n",
            "        40.0       1.00      1.00      1.00         3\n",
            "\n",
            "    accuracy                           0.92       120\n",
            "   macro avg       0.93      0.92      0.91       120\n",
            "weighted avg       0.93      0.92      0.91       120\n",
            "\n"
          ],
          "name": "stdout"
        },
        {
          "output_type": "stream",
          "text": [
            "/usr/local/lib/python3.7/dist-packages/ipykernel_launcher.py:10: DataConversionWarning: A column-vector y was passed when a 1d array was expected. Please change the shape of y to (n_samples, ), for example using ravel().\n",
            "  # Remove the CWD from sys.path while we load stuff.\n"
          ],
          "name": "stderr"
        }
      ]
    }
  ]
}