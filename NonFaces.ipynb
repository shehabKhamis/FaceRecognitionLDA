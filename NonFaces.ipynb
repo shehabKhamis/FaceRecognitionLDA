{
  "nbformat": 4,
  "nbformat_minor": 0,
  "metadata": {
    "colab": {
      "name": "NonFaces.ipynb",
      "provenance": [],
      "collapsed_sections": []
    },
    "kernelspec": {
      "display_name": "Python 3",
      "name": "python3"
    },
    "language_info": {
      "name": "python"
    }
  },
  "cells": [
    {
      "cell_type": "code",
      "metadata": {
        "colab": {
          "base_uri": "https://localhost:8080/"
        },
        "id": "9EVB4zAyLl4f",
        "outputId": "6ec69ef3-e735-4742-bd10-4899589b0181"
      },
      "source": [
        "from google.colab import drive\n",
        "drive.mount('/content/drive')"
      ],
      "execution_count": null,
      "outputs": [
        {
          "output_type": "stream",
          "text": [
            "Mounted at /content/drive\n"
          ],
          "name": "stdout"
        }
      ]
    },
    {
      "cell_type": "code",
      "metadata": {
        "id": "M6cV1I_RNjB7"
      },
      "source": [
        "from matplotlib.image import imread\n",
        "import numpy as np\n",
        "from PIL import Image\n",
        "import cv2 \n",
        "import os \n",
        "import glob \n",
        "from numpy.linalg import eig\n",
        "from numpy import array\n",
        "import matplotlib.pyplot as plt\n",
        "from sklearn.neighbors import KNeighborsClassifier\n",
        "from numpy import linalg as LA\n"
      ],
      "execution_count": null,
      "outputs": []
    },
    {
      "cell_type": "markdown",
      "metadata": {
        "id": "KVtz37l_tAbw"
      },
      "source": [
        "\n",
        "**Compare vs Non-Face Images**"
      ]
    },
    {
      "cell_type": "markdown",
      "metadata": {
        "id": "sXtF-V69gPv6"
      },
      "source": [
        "a. Download non-face images and make them of the same size 92x112.\n",
        "and try to solve the classification problem faces vs. Non-faces."
      ]
    },
    {
      "cell_type": "code",
      "metadata": {
        "colab": {
          "base_uri": "https://localhost:8080/"
        },
        "id": "PG7H7FlytJOd",
        "outputId": "b5b64888-8766-4aa5-a125-99277749755a"
      },
      "source": [
        "images = []\n",
        "for filename in sorted(os.listdir(\"/content/drive/MyDrive/NonFaces\")):\n",
        "    img = cv2.imread(os.path.join(\"/content/drive/MyDrive/NonFaces\",filename),cv2.IMREAD_GRAYSCALE)\n",
        "    img=cv2.resize(img, (92,112), interpolation = cv2.INTER_AREA)\n",
        "    if img is not None:\n",
        "       ar=img.flatten()\n",
        "     \n",
        "       images.append(ar)\n",
        "#images  \n",
        "data =np.array(images)\n",
        "data"
      ],
      "execution_count": null,
      "outputs": [
        {
          "output_type": "execute_result",
          "data": {
            "text/plain": [
              "array([[ 34,  34,  33, ...,  37,  40,  33],\n",
              "       [ 42,  41,  44, ...,  42,  43,  41],\n",
              "       [ 48,  49,  45, ...,  47,  46,  46],\n",
              "       ...,\n",
              "       [ 84,  83,  81, ..., 106, 102, 107],\n",
              "       [104, 107, 104, ..., 117, 123, 116],\n",
              "       [131, 137, 130, ..., 146, 148, 153]], dtype=uint8)"
            ]
          },
          "metadata": {
            "tags": []
          },
          "execution_count": 13
        }
      ]
    },
    {
      "cell_type": "code",
      "metadata": {
        "colab": {
          "base_uri": "https://localhost:8080/"
        },
        "id": "e_rHp5k-xSiT",
        "outputId": "632c837c-1d7e-4f71-c0a9-ca534183f9ec"
      },
      "source": [
        "vec=np.empty([400,1])\n",
        "count=0;\n",
        "for i in range(0,200):\n",
        "  \n",
        "  vec[i]=0\n",
        "\n",
        "i=0\n",
        "for i in range(200,400):\n",
        "  \n",
        "  vec[i]=1 \n",
        "print(vec.shape)  \n",
        "DataLab=np.hstack((data,vec)) \n",
        "DataLab\n"
      ],
      "execution_count": null,
      "outputs": [
        {
          "output_type": "stream",
          "text": [
            "(400, 1)\n"
          ],
          "name": "stdout"
        },
        {
          "output_type": "execute_result",
          "data": {
            "text/plain": [
              "array([[ 34.,  34.,  33., ...,  40.,  33.,   0.],\n",
              "       [ 42.,  41.,  44., ...,  43.,  41.,   0.],\n",
              "       [ 48.,  49.,  45., ...,  46.,  46.,   0.],\n",
              "       ...,\n",
              "       [ 84.,  83.,  81., ..., 102., 107.,   1.],\n",
              "       [104., 107., 104., ..., 123., 116.,   1.],\n",
              "       [131., 137., 130., ..., 148., 153.,   1.]])"
            ]
          },
          "metadata": {
            "tags": []
          },
          "execution_count": 14
        }
      ]
    },
    {
      "cell_type": "code",
      "metadata": {
        "colab": {
          "base_uri": "https://localhost:8080/"
        },
        "id": "80ACnkT32nkw",
        "outputId": "a8b3770d-7fe2-4a69-8049-5c1a1a9475ee"
      },
      "source": [
        "test=[]\n",
        "train=[]\n",
        "trainVec=np.empty([200,1])\n",
        "testVec=np.empty([200,1])\n",
        "k=0\n",
        "l=0\n",
        "for i in range(0,400):\n",
        "  if (i%2==0):\n",
        "    train.append(data[i])\n",
        "    trainVec[k]=DataLab[i,10304]\n",
        "    k+=1\n",
        "  else:\n",
        "    test.append(data[i])\n",
        "    testVec[l]=DataLab[i,10304]\n",
        "    l+=1\n",
        "train=np.array(train)\n",
        "test=np.array(test)\n",
        "print(train.shape)\n",
        "print(test.shape)\n",
        "print(trainVec.shape)\n",
        "print(testVec.shape)"
      ],
      "execution_count": null,
      "outputs": [
        {
          "output_type": "stream",
          "text": [
            "(200, 10304)\n",
            "(200, 10304)\n",
            "(200, 1)\n",
            "(200, 1)\n"
          ],
          "name": "stdout"
        }
      ]
    },
    {
      "cell_type": "code",
      "metadata": {
        "colab": {
          "base_uri": "https://localhost:8080/"
        },
        "id": "5s5ILdFY275Z",
        "outputId": "0dd47b65-b7d7-488f-f2b5-d3536935cf83"
      },
      "source": [
        "mean1=[]\n",
        "mean2=[]\n",
        "temp=[]\n",
        "count=0\n",
        "temp.append(train[0])\n",
        "for i in range(1,200):\n",
        "  if (i%100==0):\n",
        "    mean1.append(np.mean(temp,0))\n",
        "    temp.clear()\n",
        "    count+=1\n",
        "  temp.append(train[i])\n",
        " \n",
        "mean2.append(np.mean(temp,0))\n",
        "mean1=np.array(mean1)\n",
        "mean1=np.transpose(mean1)\n",
        "mean2=np.array(mean2)\n",
        "mean2=np.transpose(mean2)\n",
        "print(mean1.shape)\n",
        "print(mean2.shape)\n",
        "\n",
        "\n",
        "\n"
      ],
      "execution_count": null,
      "outputs": [
        {
          "output_type": "stream",
          "text": [
            "(10304, 1)\n",
            "(10304, 1)\n"
          ],
          "name": "stdout"
        }
      ]
    },
    {
      "cell_type": "code",
      "metadata": {
        "colab": {
          "base_uri": "https://localhost:8080/"
        },
        "id": "EQsO1Lhb49Hv",
        "outputId": "c4bb3952-adc4-4350-a902-018a3aa103dc"
      },
      "source": [
        "B2=np.dot((mean1-mean2),(mean1-mean2).T)\n",
        "print(B2)\n",
        "print(B2.shape)\n"
      ],
      "execution_count": null,
      "outputs": [
        {
          "output_type": "stream",
          "text": [
            "[[2698.8025 2614.6435 2478.015  ... 3001.1515 3089.4665 3274.928 ]\n",
            " [2614.6435 2533.1089 2400.741  ... 2907.5641 2993.1251 3172.8032]\n",
            " [2478.015  2400.741  2275.29   ... 2755.629  2836.719  3007.008 ]\n",
            " ...\n",
            " [3001.1515 2907.5641 2755.629  ... 3337.3729 3435.5819 3641.8208]\n",
            " [3089.4665 2993.1251 2836.719  ... 3435.5819 3536.6809 3748.9888]\n",
            " [3274.928  3172.8032 3007.008  ... 3641.8208 3748.9888 3974.0416]]\n",
            "(10304, 10304)\n"
          ],
          "name": "stdout"
        }
      ]
    },
    {
      "cell_type": "code",
      "metadata": {
        "colab": {
          "base_uri": "https://localhost:8080/"
        },
        "id": "xFbJW1Ea5gHl",
        "outputId": "0e5c23d0-c64b-4cd0-f0fd-3104b5a7271e"
      },
      "source": [
        "cent1=[]\n",
        "cent2=[]\n",
        "for i in range(0,100):\n",
        "  \n",
        "  cent1.append(train[i])\n",
        "\n",
        "\n",
        "for i in range(100,200):\n",
        "  \n",
        "  cent2.append(train[i])\n",
        "print(np.shape(cent1)) \n",
        "print(np.shape(cent2)) "
      ],
      "execution_count": null,
      "outputs": [
        {
          "output_type": "stream",
          "text": [
            "(100, 10304)\n",
            "(100, 10304)\n"
          ],
          "name": "stdout"
        }
      ]
    },
    {
      "cell_type": "code",
      "metadata": {
        "colab": {
          "base_uri": "https://localhost:8080/"
        },
        "id": "G66ALqot867j",
        "outputId": "128ae634-f77b-462d-fafc-7b757092795d"
      },
      "source": [
        "\n",
        "s1=np.dot(np.transpose(cent1),cent1)\n",
        "s2=np.dot(np.transpose(cent2),cent2)\n",
        "Stotal=np.add(s1,s2)\n",
        "print(s1.shape)\n",
        "print(s2.shape)\n",
        "print(Stotal)\n",
        "print(Stotal.shape)\n"
      ],
      "execution_count": null,
      "outputs": [
        {
          "output_type": "stream",
          "text": [
            "(10304, 10304)\n",
            "(10304, 10304)\n",
            "[[221 246 117 ...   5  57  51]\n",
            " [246  93 227 ...  71 208 247]\n",
            " [117 227  92 ... 153  39 245]\n",
            " ...\n",
            " [  5  71 153 ...  83  57  69]\n",
            " [ 57 208  39 ...  57 157  53]\n",
            " [ 51 247 245 ...  69  53  20]]\n",
            "(10304, 10304)\n"
          ],
          "name": "stdout"
        }
      ]
    },
    {
      "cell_type": "code",
      "metadata": {
        "id": "KPa3GSKX-Ot6"
      },
      "source": [
        "Sinv=LA.inv(Stotal)\n",
        "arr=np.dot(Sinv,B2)\n"
      ],
      "execution_count": null,
      "outputs": []
    },
    {
      "cell_type": "code",
      "metadata": {
        "colab": {
          "base_uri": "https://localhost:8080/"
        },
        "id": "1p4xA1VY_oDm",
        "outputId": "121270b1-3213-4abc-a1cf-55d9664b8f50"
      },
      "source": [
        "eigen_values, eigen_vectors =LA.eigh(arr)\n",
        "print(eigen_values)\n",
        "print(eigen_vectors)"
      ],
      "execution_count": null,
      "outputs": [
        {
          "output_type": "stream",
          "text": [
            "[-749124.7120031  -247064.44450773 -157463.41877292 ...  157891.90235162\n",
            "  252196.55193851  744465.20416754]\n",
            "[[ 0.01321309 -0.01130974  0.01281123 ... -0.01385647  0.0109499\n",
            "   0.01352341]\n",
            " [ 0.01280207 -0.01095969  0.01241641 ... -0.01341932  0.01060594\n",
            "   0.01310065]\n",
            " [ 0.01213127 -0.01038226  0.01175918 ... -0.01272715  0.01005621\n",
            "   0.01241795]\n",
            " ...\n",
            " [-0.01732195 -0.02009632 -0.01379435 ... -0.01331577 -0.02171429\n",
            "   0.01751727]\n",
            " [ 0.01378787  0.0160197   0.01100983 ...  0.01055528  0.01723468\n",
            "  -0.01392318]\n",
            " [-0.00652547 -0.00757802 -0.00520597 ... -0.00500249 -0.00816458\n",
            "   0.0065927 ]]\n"
          ],
          "name": "stdout"
        }
      ]
    },
    {
      "cell_type": "markdown",
      "metadata": {
        "id": "ZQtC57_jgYn3"
      },
      "source": [
        "How many dominant eigenvectors will you use for the LDA\n",
        "solution?"
      ]
    },
    {
      "cell_type": "markdown",
      "metadata": {
        "id": "JztoBPVkDR_W"
      },
      "source": [
        "**4 dominant eigen vectors are sufficient**"
      ]
    },
    {
      "cell_type": "code",
      "metadata": {
        "colab": {
          "base_uri": "https://localhost:8080/"
        },
        "id": "eVjsS3WUBRdP",
        "outputId": "00b61de8-5938-468b-a554-4e138d6ce076"
      },
      "source": [
        "w=np.real( np.delete(eigen_vectors, np.s_[0:10300], axis=1)   )\n",
        "print(w)\n",
        "trainRed=np.zeros((200,4))\n",
        "testRed=np.zeros((200,4))\n",
        "trainRed=np.dot(train,w)\n",
        "testRed=np.dot(test,w)"
      ],
      "execution_count": null,
      "outputs": [
        {
          "output_type": "stream",
          "text": [
            "[[ 0.00714293 -0.01385647  0.0109499   0.01352341]\n",
            " [ 0.00691616 -0.01341932  0.01060594  0.01310065]\n",
            " [ 0.00656199 -0.01272715  0.01005621  0.01241795]\n",
            " ...\n",
            " [-0.02166711 -0.01331577 -0.02171429  0.01751727]\n",
            " [ 0.01714324  0.01055528  0.01723468 -0.01392318]\n",
            " [-0.00812985 -0.00500249 -0.00816458  0.0065927 ]]\n"
          ],
          "name": "stdout"
        }
      ]
    },
    {
      "cell_type": "code",
      "metadata": {
        "colab": {
          "base_uri": "https://localhost:8080/"
        },
        "id": "Sy9jRIsUBo7m",
        "outputId": "ef817630-2491-4acc-b837-029554e8b4f5"
      },
      "source": [
        "classifier = KNeighborsClassifier(n_neighbors=1)\n",
        "classifier.fit(trainRed, trainVec.ravel())  \n",
        "test_predict = classifier.predict(testRed)   \n",
        "true_predicted_count=0\n",
        "for j in range(0,200):\n",
        "   if test_predict[j] ==testVec[j]:\n",
        "      true_predicted_count+=1\n",
        "\n",
        "true_predicted_count"
      ],
      "execution_count": null,
      "outputs": [
        {
          "output_type": "execute_result",
          "data": {
            "text/plain": [
              "199"
            ]
          },
          "metadata": {
            "tags": []
          },
          "execution_count": 23
        }
      ]
    },
    {
      "cell_type": "code",
      "metadata": {
        "colab": {
          "base_uri": "https://localhost:8080/"
        },
        "id": "mbpyod53B2lM",
        "outputId": "b68e4344-67de-4dbf-be3b-cf22775971d6"
      },
      "source": [
        "accuracy=true_predicted_count/200\n",
        "accuracy=accuracy*100\n",
        "accuracy"
      ],
      "execution_count": null,
      "outputs": [
        {
          "output_type": "execute_result",
          "data": {
            "text/plain": [
              "99.5"
            ]
          },
          "metadata": {
            "tags": []
          },
          "execution_count": 24
        }
      ]
    },
    {
      "cell_type": "markdown",
      "metadata": {
        "id": "IhTfLV-OEzXQ"
      },
      "source": [
        "Show failure and success cases."
      ]
    },
    {
      "cell_type": "code",
      "metadata": {
        "colab": {
          "base_uri": "https://localhost:8080/"
        },
        "id": "-hAK1sjoEq3C",
        "outputId": "04ca32f5-6cad-4070-821b-2f32b4d37d34"
      },
      "source": [
        "from sklearn.preprocessing import StandardScaler\n",
        "scaler = StandardScaler()\n",
        "scaler.fit(trainRed)\n",
        "\n",
        "train_pca3 = scaler.transform(trainRed)\n",
        "test_pca3 = scaler.transform(testRed)\n",
        "\n",
        "from sklearn.neighbors import KNeighborsClassifier\n",
        "classifier = KNeighborsClassifier(n_neighbors=1)\n",
        "classifier.fit(trainRed, trainVec)\n",
        "\n",
        "y_pred = classifier.predict(testRed)\n",
        "\n",
        "from sklearn.metrics import classification_report, confusion_matrix\n",
        "print(confusion_matrix(testVec, y_pred))\n",
        "print(classification_report(testVec, y_pred))"
      ],
      "execution_count": null,
      "outputs": [
        {
          "output_type": "stream",
          "text": [
            "[[100   0]\n",
            " [  1  99]]\n",
            "              precision    recall  f1-score   support\n",
            "\n",
            "         0.0       0.99      1.00      1.00       100\n",
            "         1.0       1.00      0.99      0.99       100\n",
            "\n",
            "    accuracy                           0.99       200\n",
            "   macro avg       1.00      0.99      0.99       200\n",
            "weighted avg       1.00      0.99      0.99       200\n",
            "\n"
          ],
          "name": "stdout"
        },
        {
          "output_type": "stream",
          "text": [
            "/usr/local/lib/python3.7/dist-packages/ipykernel_launcher.py:10: DataConversionWarning: A column-vector y was passed when a 1d array was expected. Please change the shape of y to (n_samples, ), for example using ravel().\n",
            "  # Remove the CWD from sys.path while we load stuff.\n"
          ],
          "name": "stderr"
        }
      ]
    },
    {
      "cell_type": "markdown",
      "metadata": {
        "id": "Kv7gGylfQFfS"
      },
      "source": [
        " Plot the accuracy vs the number of non-faces images while fixing\n",
        "the number of face images.\n",
        "number of non-faces images = 100"
      ]
    },
    {
      "cell_type": "code",
      "metadata": {
        "colab": {
          "base_uri": "https://localhost:8080/"
        },
        "id": "yftsUP4rR55d",
        "outputId": "844a6805-fe56-42ee-e773-139f21c34b87"
      },
      "source": [
        "newData=np.delete(data,np.s_[300:400],axis=0)\n",
        "newData.shape\n",
        "vec=np.empty([300,1])\n",
        "count=0;\n",
        "for i in range(0,200):  \n",
        "  vec[i]=0\n",
        "i=0\n",
        "for i in range(200,300):\n",
        "  vec[i]=1 \n",
        "print(vec.shape)  \n",
        "DataLab=np.hstack((newData,vec)) \n",
        "DataLab\n",
        "test=[]\n",
        "train=[]\n",
        "trainVec=np.empty([150,1])\n",
        "testVec=np.empty([150,1])\n",
        "k=0\n",
        "l=0\n",
        "for i in range(0,300):\n",
        "  if (i%2==0):\n",
        "    train.append(newData[i])\n",
        "    trainVec[k]=DataLab[i,10304]\n",
        "    k+=1\n",
        "  else:\n",
        "    test.append(newData[i])\n",
        "    testVec[l]=DataLab[i,10304]\n",
        "    l+=1\n",
        "train=np.array(train)\n",
        "test=np.array(test)\n",
        "print(train.shape)\n",
        "print(test.shape)\n",
        "print(trainVec.shape)\n",
        "print(testVec.shape)\n"
      ],
      "execution_count": null,
      "outputs": [
        {
          "output_type": "stream",
          "text": [
            "(300, 1)\n",
            "(150, 10304)\n",
            "(150, 10304)\n",
            "(150, 1)\n",
            "(150, 1)\n"
          ],
          "name": "stdout"
        }
      ]
    },
    {
      "cell_type": "code",
      "metadata": {
        "colab": {
          "base_uri": "https://localhost:8080/"
        },
        "id": "QMQHfgtxTZ-X",
        "outputId": "1aacdc1d-c006-44df-d069-7654b2a2a08e"
      },
      "source": [
        "mean1=[]\n",
        "mean2=[]\n",
        "temp=[]\n",
        "count=0\n",
        "temp.append(train[0])\n",
        "for i in range(1,150):\n",
        "  if (i%100==0):\n",
        "    mean1.append(np.mean(temp,0))\n",
        "    temp.clear()\n",
        "    count+=1\n",
        "  temp.append(train[i])\n",
        "mean2.append(np.mean(temp,0))\n",
        "mean1=np.array(mean1)\n",
        "mean1=np.transpose(mean1)\n",
        "mean2=np.array(mean2)\n",
        "mean2=np.transpose(mean2)\n",
        "print(mean1.shape)\n",
        "print(mean2.shape)\n",
        "cent1=[]\n",
        "cent2=[]\n",
        "for i in range(0,100):\n",
        "  cent1.append(train[i])\n",
        "for i in range(100,150):\n",
        "  cent2.append(train[i])\n",
        "print(np.shape(cent1)) \n",
        "print(np.shape(cent2)) \n",
        "B2=np.dot((mean1-mean2),(mean1-mean2).T)\n",
        "print(B2)\n",
        "print(B2.shape)\n",
        "s1=np.dot(np.transpose(cent1),cent1)\n",
        "s2=np.dot(np.transpose(cent2),cent2)\n",
        "Stotal=np.add(s1,s2)\n",
        "print(s1.shape)\n",
        "print(s2.shape)\n",
        "print(Stotal)\n",
        "print(Stotal.shape)\n"
      ],
      "execution_count": null,
      "outputs": [
        {
          "output_type": "stream",
          "text": [
            "(10304, 1)\n",
            "(10304, 1)\n",
            "(100, 10304)\n",
            "(50, 10304)\n",
            "[[3118.1056 2963.4288 2818.8032 ... 2757.3792 2849.5152 3140.4416]\n",
            " [2963.4288 2816.4249 2678.9736 ... 2620.5966 2708.1621 2984.6568]\n",
            " [2818.8032 2678.9736 2548.2304 ... 2492.7024 2575.9944 2838.9952]\n",
            " ...\n",
            " [2757.3792 2620.5966 2492.7024 ... 2438.3844 2519.8614 2777.1312]\n",
            " [2849.5152 2708.1621 2575.9944 ... 2519.8614 2604.0609 2869.9272]\n",
            " [3140.4416 2984.6568 2838.9952 ... 2777.1312 2869.9272 3162.9376]]\n",
            "(10304, 10304)\n",
            "(10304, 10304)\n",
            "(10304, 10304)\n",
            "[[105 105 155 ...  92 177 115]\n",
            " [105 111  37 ...  99 147 167]\n",
            " [155  37 105 ... 138  65  38]\n",
            " ...\n",
            " [ 92  99 138 ... 158 242  98]\n",
            " [177 147  65 ... 242 133 129]\n",
            " [115 167  38 ...  98 129 136]]\n",
            "(10304, 10304)\n"
          ],
          "name": "stdout"
        }
      ]
    },
    {
      "cell_type": "code",
      "metadata": {
        "id": "D6onTYPfU2Dm"
      },
      "source": [
        "Sinv=LA.inv(Stotal)\n",
        "arr=np.dot(Sinv,B2)"
      ],
      "execution_count": null,
      "outputs": []
    },
    {
      "cell_type": "code",
      "metadata": {
        "colab": {
          "base_uri": "https://localhost:8080/"
        },
        "id": "pdPL9EhtU8Ut",
        "outputId": "3e7ed113-a70c-4b55-994d-d91679559266"
      },
      "source": [
        "eigen_values, eigen_vectors =LA.eigh(arr)\n",
        "print(eigen_values)\n",
        "print(eigen_vectors)"
      ],
      "execution_count": null,
      "outputs": [
        {
          "output_type": "stream",
          "text": [
            "[-199553.64192704  -67085.1180788   -40598.45635666 ...   40189.95663684\n",
            "   67145.08088143  197730.77930194]\n",
            "[[ 0.01401945  0.01082277 -0.01313357 ...  0.0123924  -0.01105855\n",
            "   0.01420554]\n",
            " [ 0.01331887  0.0102741  -0.01245841 ...  0.01180021 -0.01052202\n",
            "   0.01350611]\n",
            " [ 0.01267958  0.00979729 -0.01189972 ...  0.01117722 -0.00998336\n",
            "   0.012836  ]\n",
            " ...\n",
            " [-0.00770324  0.00926817  0.00587265 ...  0.00614469  0.00893142\n",
            "   0.00760314]\n",
            " [-0.00351121  0.00422344  0.00267546 ...  0.00280297  0.00407312\n",
            "   0.00346648]\n",
            " [-0.0052959   0.00637069  0.00403603 ...  0.00422658  0.00614236\n",
            "   0.00522798]]\n"
          ],
          "name": "stdout"
        }
      ]
    },
    {
      "cell_type": "code",
      "metadata": {
        "colab": {
          "base_uri": "https://localhost:8080/"
        },
        "id": "KfKxR7h8Xmxn",
        "outputId": "cddf2f53-9203-4429-e2e8-780bb9e597f8"
      },
      "source": [
        "w=np.real( np.delete(eigen_vectors, np.s_[0:10300], axis=1)   )\n",
        "print(w)\n",
        "trainRed=np.zeros((200,4))\n",
        "testRed=np.zeros((200,4))\n",
        "trainRed=np.dot(train,w)\n",
        "testRed=np.dot(test,w)\n",
        "classifier = KNeighborsClassifier(n_neighbors=1)\n",
        "classifier.fit(trainRed, trainVec.ravel())  \n",
        "test_predict = classifier.predict(testRed)   \n",
        "true_predicted_count=0\n",
        "for j in range(0,150):\n",
        "   if test_predict[j] ==testVec[j]:\n",
        "      true_predicted_count+=1\n",
        "\n",
        "true_predicted_count"
      ],
      "execution_count": null,
      "outputs": [
        {
          "output_type": "stream",
          "text": [
            "[[-0.00673307  0.0123924  -0.01105855  0.01420554]\n",
            " [-0.00641735  0.01180021 -0.01052202  0.01350611]\n",
            " [-0.00606595  0.01117722 -0.00998336  0.012836  ]\n",
            " ...\n",
            " [ 0.00954207  0.00614469  0.00893142  0.00760314]\n",
            " [ 0.0043541   0.00280297  0.00407312  0.00346648]\n",
            " [ 0.00656482  0.00422658  0.00614236  0.00522798]]\n"
          ],
          "name": "stdout"
        },
        {
          "output_type": "execute_result",
          "data": {
            "text/plain": [
              "148"
            ]
          },
          "metadata": {
            "tags": []
          },
          "execution_count": 41
        }
      ]
    },
    {
      "cell_type": "code",
      "metadata": {
        "colab": {
          "base_uri": "https://localhost:8080/",
          "height": 313
        },
        "id": "58VqMPrMYOWe",
        "outputId": "47aa4e7a-78de-49e2-84f4-f080d5bc2ec8"
      },
      "source": [
        "accuracy2=true_predicted_count/150\n",
        "accuracy2=accuracy2*100\n",
        "print(accuracy2)\n",
        "accu=np.append(accuracy2,accuracy)\n",
        "ImgNum=[100,200]\n",
        "plt.plot(ImgNum, accu)\n",
        "plt.xlabel('number of non-faces images')\n",
        "plt.ylabel('accuracy')  "
      ],
      "execution_count": null,
      "outputs": [
        {
          "output_type": "stream",
          "text": [
            "98.66666666666667\n"
          ],
          "name": "stdout"
        },
        {
          "output_type": "execute_result",
          "data": {
            "text/plain": [
              "Text(0, 0.5, 'accuracy')"
            ]
          },
          "metadata": {
            "tags": []
          },
          "execution_count": 44
        },
        {
          "output_type": "display_data",
          "data": {
            "image/png": "[encoded data removed]",
            "text/plain": [
              "<Figure size 432x288 with 1 Axes>"
            ]
          },
          "metadata": {
            "tags": [],
            "needs_background": "light"
          }
        }
      ]
    }
  ]
}