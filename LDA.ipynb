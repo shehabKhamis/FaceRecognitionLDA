{
  "nbformat": 4,
  "nbformat_minor": 0,
  "metadata": {
    "colab": {
      "name": "Project1.ipynb",
      "provenance": [],
      "collapsed_sections": []
    },
    "kernelspec": {
      "display_name": "Python 3",
      "name": "python3"
    },
    "language_info": {
      "name": "python"
    }
  },
  "cells": [
    {
      "cell_type": "code",
      "metadata": {
        "colab": {
          "base_uri": "https://localhost:8080/"
        },
        "id": "9EVB4zAyLl4f",
        "outputId": "6ec69ef3-e735-4742-bd10-4899589b0181"
      },
      "source": [
        "from google.colab import drive\n",
        "drive.mount('/content/drive')"
      ],
      "execution_count": null,
      "outputs": [
        {
          "output_type": "stream",
          "text": [
            "Mounted at /content/drive\n"
          ],
          "name": "stdout"
        }
      ]
    },
    {
      "cell_type": "code",
      "metadata": {
        "id": "M6cV1I_RNjB7"
      },
      "source": [
        "from matplotlib.image import imread\n",
        "import numpy as np\n",
        "from PIL import Image\n",
        "import cv2 \n",
        "import os \n",
        "import glob \n",
        "from numpy.linalg import eig\n",
        "from numpy import array\n",
        "import matplotlib.pyplot as plt\n",
        "from sklearn.neighbors import KNeighborsClassifier\n",
        "from numpy import linalg as LA\n"
      ],
      "execution_count": null,
      "outputs": []
    },
    {
      "cell_type": "code",
      "metadata": {
        "colab": {
          "base_uri": "https://localhost:8080/"
        },
        "id": "Czjt9imDV7SH",
        "outputId": "0706904a-e8d9-416b-d8aa-c2c9d174aa55"
      },
      "source": [
        "\n",
        "images = []\n",
        "for filename in sorted(os.listdir(\"/content/drive/MyDrive/ORL\")):\n",
        "    img = cv2.imread(os.path.join(\"/content/drive/MyDrive/ORL\",filename),cv2.IMREAD_GRAYSCALE)\n",
        "    if img is not None:\n",
        "       ar=img.flatten()\n",
        "     \n",
        "       images.append(ar)\n",
        "#images  \n",
        "data =np.array(images)\n",
        "data\n"
      ],
      "execution_count": null,
      "outputs": [
        {
          "output_type": "execute_result",
          "data": {
            "text/plain": [
              "array([[ 34,  34,  33, ...,  37,  40,  33],\n",
              "       [ 42,  41,  44, ...,  42,  43,  41],\n",
              "       [ 48,  49,  45, ...,  47,  46,  46],\n",
              "       ...,\n",
              "       [113, 112, 111, ...,  87,  87,  89],\n",
              "       [112, 109, 116, ...,  93,  88,  92],\n",
              "       [111, 114, 112, ...,  88,  86,  92]], dtype=uint8)"
            ]
          },
          "metadata": {
            "tags": []
          },
          "execution_count": 3
        }
      ]
    },
    {
      "cell_type": "code",
      "metadata": {
        "id": "bSze_z3D8Oqe"
      },
      "source": [
        "vec=np.empty([400,1])\n",
        "count=0;\n",
        "for i in range(0,400):\n",
        "  if (i%10==0):\n",
        "    count+=1\n",
        "  vec[i]=count\n",
        "  \n",
        "DataLab=np.hstack((data,vec)) \n",
        "\n"
      ],
      "execution_count": null,
      "outputs": []
    },
    {
      "cell_type": "code",
      "metadata": {
        "colab": {
          "base_uri": "https://localhost:8080/"
        },
        "id": "diCwWLhgNMxY",
        "outputId": "5bfc5856-72dd-42ff-a853-4a1cc4f0913d"
      },
      "source": [
        "test=[]\n",
        "train=[]\n",
        "trainVec=np.empty([200,1])\n",
        "testVec=np.empty([200,1])\n",
        "k=0\n",
        "l=0\n",
        "for i in range(0,400):\n",
        "  if (i%2==0):\n",
        "    train.append(data[i])\n",
        "    trainVec[k]=DataLab[i,10304]\n",
        "    k+=1\n",
        "  else:\n",
        "    test.append(data[i])\n",
        "    testVec[l]=DataLab[i,10304]\n",
        "    l+=1\n",
        "train=np.array(train)\n",
        "test=np.array(test)\n",
        "print(train.shape)\n",
        "print(test.shape)\n",
        "print(trainVec.shape)\n",
        "print(testVec.shape)\n"
      ],
      "execution_count": null,
      "outputs": [
        {
          "output_type": "stream",
          "text": [
            "(200, 10304)\n",
            "(200, 10304)\n",
            "(200, 1)\n",
            "(200, 1)\n"
          ],
          "name": "stdout"
        }
      ]
    },
    {
      "cell_type": "markdown",
      "metadata": {
        "id": "-OzKKsXaaP9o"
      },
      "source": [
        "**Classification Using LDA**"
      ]
    },
    {
      "cell_type": "markdown",
      "metadata": {
        "id": "6IeOv1niaVYP"
      },
      "source": [
        "a. Use the pseudo code below for LDA. We will modify few lines in\n",
        "pseudocode to handle multiclass LDA.\n",
        "i. Calculate the mean vector for every class Mu1, Mu2, ..., Mu40."
      ]
    },
    {
      "cell_type": "code",
      "metadata": {
        "colab": {
          "base_uri": "https://localhost:8080/"
        },
        "id": "kofCERjs_jva",
        "outputId": "ee263366-1b49-4442-f01f-2e1297d74704"
      },
      "source": [
        "#LDA-Mean\n",
        "mean=[]\n",
        "temp=[]\n",
        "count=0\n",
        "temp.append(train[0])\n",
        "for i in range(1,200):\n",
        "  if (i%5==0):\n",
        "    mean.append(np.mean(temp,0))\n",
        "    temp.clear()\n",
        "    count+=1\n",
        "  temp.append(train[i])\n",
        " \n",
        "mean.append(np.mean(temp,0))\n",
        "\n",
        "mean=np.array(mean)\n",
        "print(\"mean : \")\n",
        "print( mean)\n",
        "mean.shape\n",
        "\n",
        "\n",
        "\n"
      ],
      "execution_count": null,
      "outputs": [
        {
          "output_type": "stream",
          "text": [
            "mean : \n",
            "[[ 45.2  50.   51.6 ...  36.6  37.2  37. ]\n",
            " [134.4 130.6 132.8 ...  33.4  42.8  45.6]\n",
            " [ 47.   46.4  47.  ...  34.4  34.2  39. ]\n",
            " ...\n",
            " [ 56.4  56.4  57.2 ...  64.   65.4  66. ]\n",
            " [121.4 120.  120.4 ...  63.8  65.   64. ]\n",
            " [107.  107.2 110.  ...  84.6  76.8  84.2]]\n"
          ],
          "name": "stdout"
        },
        {
          "output_type": "execute_result",
          "data": {
            "text/plain": [
              "(40, 10304)"
            ]
          },
          "metadata": {
            "tags": []
          },
          "execution_count": 21
        }
      ]
    },
    {
      "cell_type": "markdown",
      "metadata": {
        "id": "r7wF-cm8arq7"
      },
      "source": [
        "ii. Replace B matrix by Sb.\n",
        "Sb = ∑nk(μk − μ)(μk − μ)"
      ]
    },
    {
      "cell_type": "code",
      "metadata": {
        "colab": {
          "base_uri": "https://localhost:8080/"
        },
        "id": "GYNZmJmmLTZg",
        "outputId": "8280e1ee-a0a5-4bd2-b4fc-70a9632813a9"
      },
      "source": [
        "#LDA Sb\n",
        "overallMean=np.mean(train,0)\n",
        "Sb=np.zeros((10304,10304))\n",
        "temp=np.empty([10304,1])\n",
        "for i in range(0,40):\n",
        "  temp=np.subtract(mean[i].reshape(10304,1),overallMean.reshape(10304,1))\n",
        "  temp=5*temp\n",
        "  Sb=np.add(Sb,np.dot(temp,np.transpose(temp)))\n",
        "print(Sb)\n",
        "Sb.shape\n"
      ],
      "execution_count": null,
      "outputs": [
        {
          "output_type": "stream",
          "text": [
            "[[1142059.775 1126678.55  1128001.55  ... -135810.725  -94167.375\n",
            "   -55609.8  ]\n",
            " [1126678.55  1114231.1   1114159.1   ... -125802.45   -87799.75\n",
            "   -51271.6  ]\n",
            " [1128001.55  1114159.1   1116797.1   ... -135117.45   -95739.75\n",
            "   -57861.6  ]\n",
            " ...\n",
            " [-135810.725 -125802.45  -135117.45  ... 1499672.775 1461915.125\n",
            "  1424656.2  ]\n",
            " [ -94167.375  -87799.75   -95739.75  ... 1461915.125 1482471.375\n",
            "  1440093.   ]\n",
            " [ -55609.8    -51271.6    -57861.6   ... 1424656.2   1440093.\n",
            "  1425113.6  ]]\n"
          ],
          "name": "stdout"
        },
        {
          "output_type": "execute_result",
          "data": {
            "text/plain": [
              "(10304, 10304)"
            ]
          },
          "metadata": {
            "tags": []
          },
          "execution_count": 8
        }
      ]
    },
    {
      "cell_type": "markdown",
      "metadata": {
        "id": "jXjRLtQxcFKJ"
      },
      "source": [
        "iii. S matrix remains the same, but it sums S1, S2, S3, ...S40."
      ]
    },
    {
      "cell_type": "code",
      "metadata": {
        "colab": {
          "base_uri": "https://localhost:8080/"
        },
        "id": "ua0_R1wAt-Cz",
        "outputId": "ddf81c70-6464-48a0-e113-e43da384310a"
      },
      "source": [
        "#computing S total=s1+s2+s3+...\n",
        "temp=[]\n",
        "temp.append(train[0])\n",
        "empty=[]\n",
        "k=0\n",
        "St=np.zeros((10304,10304))\n",
        "Sk=[]\n",
        "centered=[]\n",
        "for i in range(1,200):\n",
        "  if (i%5==0):\n",
        "    centered=temp-np.transpose(mean[k])  \n",
        "    temp.clear()\n",
        "    k+=1\n",
        "    Sk=np.dot(np.transpose(centered),centered)\n",
        "    centered=np.array(empty)   \n",
        "    St=np.add(St,Sk)\n",
        "  temp.append(train[i])\n",
        "centered=temp-np.transpose(mean[k]) \n",
        "temp.clear()\n",
        "k+=1\n",
        "Sk=np.dot(np.transpose(centered),centered)\n",
        "centered=np.array(empty)\n",
        "St=np.add(St,Sk)\n",
        "St"
      ],
      "execution_count": null,
      "outputs": [
        {
          "output_type": "execute_result",
          "data": {
            "text/plain": [
              "array([[ 27906.4,  27124. ,  27227.2, ...,  -2136.8,    439. ,   6393. ],\n",
              "       [ 27124. ,  28947.2,  28018.2, ...,  -2275.4,   1679. ,   6850.4],\n",
              "       [ 27227.2,  28018.2,  29013.2, ...,  -2122.6,   1946. ,   6453.8],\n",
              "       ...,\n",
              "       [ -2136.8,  -2275.4,  -2122.6, ..., 140943.2,  80518. ,  50058.4],\n",
              "       [   439. ,   1679. ,   1946. , ...,  80518. ,  88147.6,  64694.6],\n",
              "       [  6393. ,   6850.4,   6453.8, ...,  50058.4,  64694.6,  90457.2]])"
            ]
          },
          "metadata": {
            "tags": []
          },
          "execution_count": 9
        }
      ]
    },
    {
      "cell_type": "markdown",
      "metadata": {
        "id": "1Fc2z_d8cQCl"
      },
      "source": [
        "iv. Use 39 dominant eigenvectors instead of just one. You will\n",
        "have a projection matrix U39x10304."
      ]
    },
    {
      "cell_type": "code",
      "metadata": {
        "id": "_c8hhWG8B5RX"
      },
      "source": [
        "stInv=LA.inv(St)\n",
        "arr=np.dot(stInv,Sb)\n",
        "\n",
        "\n"
      ],
      "execution_count": null,
      "outputs": []
    },
    {
      "cell_type": "code",
      "metadata": {
        "colab": {
          "base_uri": "https://localhost:8080/"
        },
        "id": "s2X0gSPS_ERa",
        "outputId": "b469db64-cff5-48dc-fcb2-56e49a0ca882"
      },
      "source": [
        "eigen_values, eigen_vectors =LA.eigh(arr)\n",
        "print( eigen_values)\n",
        "print(eigen_vectors)\n",
        "w=np.real( np.delete(eigen_vectors, np.s_[0:10265], axis=1)   )\n",
        "print(w)\n",
        "\n",
        "\n"
      ],
      "execution_count": null,
      "outputs": [
        {
          "output_type": "stream",
          "text": [
            "[-1.17110431e+20 -6.76695942e+19 -3.35468434e+19 ...  3.34735812e+19\n",
            "  6.88736151e+19  1.17166762e+20]\n",
            "[[ 0.00749915  0.02206207 -0.00510459 ...  0.00399988 -0.02138271\n",
            "  -0.0076256 ]\n",
            " [ 0.00725071  0.02150676 -0.00527283 ...  0.00425681 -0.02100036\n",
            "  -0.00740412]\n",
            " [ 0.00725951  0.02171366 -0.00565604 ...  0.00452652 -0.0209604\n",
            "  -0.00736247]\n",
            " ...\n",
            " [ 0.01025344  0.01014426  0.0138784  ...  0.01312411  0.01017303\n",
            "   0.01035137]\n",
            " [ 0.00283254 -0.00469117  0.00399483 ...  0.00362798 -0.00469939\n",
            "   0.00286593]\n",
            " [-0.00888707 -0.0014774  -0.0181001  ... -0.01739702 -0.00150572\n",
            "  -0.00901349]]\n",
            "[[-0.01825479  0.01920133 -0.00622078 ...  0.00399988 -0.02138271\n",
            "  -0.0076256 ]\n",
            " [-0.01913118  0.0207947  -0.00611337 ...  0.00425681 -0.02100036\n",
            "  -0.00740412]\n",
            " [-0.0156959   0.01781786 -0.00469754 ...  0.00452652 -0.0209604\n",
            "  -0.00736247]\n",
            " ...\n",
            " [ 0.00970229 -0.00199065 -0.03052509 ...  0.01312411  0.01017303\n",
            "   0.01035137]\n",
            " [-0.0046861   0.00321522  0.00900207 ...  0.00362798 -0.00469939\n",
            "   0.00286593]\n",
            " [-0.00555543  0.00066715  0.01439317 ... -0.01739702 -0.00150572\n",
            "  -0.00901349]]\n"
          ],
          "name": "stdout"
        }
      ]
    },
    {
      "cell_type": "markdown",
      "metadata": {
        "id": "XfzETs9GcrAE"
      },
      "source": [
        "b. Project the training set, and test sets separately using the same\n",
        "projection matrix U. You will have 39 dimensions in the new space."
      ]
    },
    {
      "cell_type": "code",
      "metadata": {
        "id": "J6i1qmJgeYSg"
      },
      "source": [
        "\n",
        "trainRed=np.zeros((200,39))\n",
        "testRed=np.zeros((200,39))\n",
        "trainRed=np.dot(train,w)\n",
        "testRed=np.dot(test,w)\n",
        "\n",
        "\n"
      ],
      "execution_count": null,
      "outputs": []
    },
    {
      "cell_type": "markdown",
      "metadata": {
        "id": "ICmbcggNdIsw"
      },
      "source": [
        "c. Use a simple classifier (first Nearest Neighbor to determine the class\n",
        "labels)."
      ]
    },
    {
      "cell_type": "code",
      "metadata": {
        "colab": {
          "base_uri": "https://localhost:8080/"
        },
        "id": "NnWzQL1fWT99",
        "outputId": "00122856-7343-47fb-a9ae-eeb4cfd9a97a"
      },
      "source": [
        "nas=np.transpose(trainVec)\n",
        "\n",
        "classifier = KNeighborsClassifier(n_neighbors=1)\n",
        "classifier.fit(trainRed, trainVec.ravel())  \n",
        "test_predict = classifier.predict(testRed)   \n",
        "true_predicted_count=0\n",
        "for j in range(0,200):\n",
        "   if test_predict[j] ==testVec[j]:\n",
        "      true_predicted_count+=1\n",
        "\n",
        "true_predicted_count"
      ],
      "execution_count": null,
      "outputs": [
        {
          "output_type": "execute_result",
          "data": {
            "text/plain": [
              "190"
            ]
          },
          "metadata": {
            "tags": []
          },
          "execution_count": 13
        }
      ]
    },
    {
      "cell_type": "code",
      "metadata": {
        "colab": {
          "base_uri": "https://localhost:8080/"
        },
        "id": "iEhDluj673om",
        "outputId": "94530f36-8dbf-4a9b-eeb5-84fe308d41d9"
      },
      "source": [
        "accuracy=true_predicted_count/200\n",
        "accuracy=accuracy*100\n",
        "accuracy"
      ],
      "execution_count": null,
      "outputs": [
        {
          "output_type": "execute_result",
          "data": {
            "text/plain": [
              "95.0"
            ]
          },
          "metadata": {
            "tags": []
          },
          "execution_count": 14
        }
      ]
    },
    {
      "cell_type": "markdown",
      "metadata": {
        "id": "ihyTs95XdOa3"
      },
      "source": [
        "Report Accuracy for the Multiclass LDA on the face recognition\n",
        "dataset."
      ]
    },
    {
      "cell_type": "code",
      "metadata": {
        "colab": {
          "base_uri": "https://localhost:8080/"
        },
        "id": "uW7YNPU4GzL7",
        "outputId": "b77fc8ff-a0d8-47c0-81fa-8be3d17e37d0"
      },
      "source": [
        "from sklearn.preprocessing import StandardScaler\n",
        "scaler = StandardScaler()\n",
        "scaler.fit(trainRed)\n",
        "\n",
        "train_pca3 = scaler.transform(trainRed)\n",
        "test_pca3 = scaler.transform(testRed)\n",
        "\n",
        "from sklearn.neighbors import KNeighborsClassifier\n",
        "classifier = KNeighborsClassifier(n_neighbors=1)\n",
        "classifier.fit(trainRed, trainVec)\n",
        "\n",
        "y_pred = classifier.predict(testRed)\n",
        "\n",
        "from sklearn.metrics import classification_report, confusion_matrix\n",
        "print(confusion_matrix(testVec, y_pred))\n",
        "print(classification_report(testVec, y_pred))"
      ],
      "execution_count": null,
      "outputs": [
        {
          "output_type": "stream",
          "text": [
            "[[5 0 0 ... 0 0 0]\n",
            " [0 5 0 ... 0 0 0]\n",
            " [0 0 5 ... 0 0 0]\n",
            " ...\n",
            " [0 0 0 ... 5 0 0]\n",
            " [0 0 0 ... 0 5 0]\n",
            " [0 0 0 ... 0 0 5]]\n",
            "              precision    recall  f1-score   support\n",
            "\n",
            "         1.0       1.00      1.00      1.00         5\n",
            "         2.0       1.00      1.00      1.00         5\n",
            "         3.0       0.83      1.00      0.91         5\n",
            "         4.0       1.00      1.00      1.00         5\n",
            "         5.0       0.83      1.00      0.91         5\n",
            "         6.0       1.00      1.00      1.00         5\n",
            "         7.0       0.62      1.00      0.77         5\n",
            "         8.0       1.00      0.60      0.75         5\n",
            "         9.0       1.00      1.00      1.00         5\n",
            "        10.0       1.00      1.00      1.00         5\n",
            "        11.0       1.00      0.80      0.89         5\n",
            "        12.0       1.00      1.00      1.00         5\n",
            "        13.0       1.00      1.00      1.00         5\n",
            "        14.0       1.00      1.00      1.00         5\n",
            "        15.0       1.00      1.00      1.00         5\n",
            "        16.0       1.00      1.00      1.00         5\n",
            "        17.0       1.00      1.00      1.00         5\n",
            "        18.0       1.00      0.60      0.75         5\n",
            "        19.0       1.00      1.00      1.00         5\n",
            "        20.0       1.00      1.00      1.00         5\n",
            "        21.0       1.00      1.00      1.00         5\n",
            "        22.0       1.00      1.00      1.00         5\n",
            "        23.0       1.00      1.00      1.00         5\n",
            "        24.0       1.00      1.00      1.00         5\n",
            "        25.0       1.00      1.00      1.00         5\n",
            "        26.0       1.00      1.00      1.00         5\n",
            "        27.0       1.00      1.00      1.00         5\n",
            "        28.0       1.00      1.00      1.00         5\n",
            "        29.0       1.00      0.20      0.33         5\n",
            "        30.0       1.00      1.00      1.00         5\n",
            "        31.0       1.00      1.00      1.00         5\n",
            "        32.0       1.00      1.00      1.00         5\n",
            "        33.0       1.00      1.00      1.00         5\n",
            "        34.0       0.83      1.00      0.91         5\n",
            "        35.0       0.67      0.80      0.73         5\n",
            "        36.0       0.71      1.00      0.83         5\n",
            "        37.0       1.00      1.00      1.00         5\n",
            "        38.0       1.00      1.00      1.00         5\n",
            "        39.0       1.00      1.00      1.00         5\n",
            "        40.0       1.00      1.00      1.00         5\n",
            "\n",
            "    accuracy                           0.95       200\n",
            "   macro avg       0.96      0.95      0.94       200\n",
            "weighted avg       0.96      0.95      0.94       200\n",
            "\n"
          ],
          "name": "stdout"
        },
        {
          "output_type": "stream",
          "text": [
            "/usr/local/lib/python3.7/dist-packages/ipykernel_launcher.py:10: DataConversionWarning: A column-vector y was passed when a 1d array was expected. Please change the shape of y to (n_samples, ), for example using ravel().\n",
            "  # Remove the CWD from sys.path while we load stuff.\n"
          ],
          "name": "stderr"
        }
      ]
    },
    {
      "cell_type": "markdown",
      "metadata": {
        "id": "n4KWvtB5ddh_"
      },
      "source": [
        " **Classifier Tuning (LDA)**"
      ]
    },
    {
      "cell_type": "code",
      "metadata": {
        "colab": {
          "base_uri": "https://localhost:8080/"
        },
        "id": "NEOmS6EowaT-",
        "outputId": "86d83cd1-b523-485c-e2c8-2497063dde5d"
      },
      "source": [
        "acc=[]\n",
        "ks=[]\n",
        "for i in range(1, 8,2):\n",
        "  ks.append(i)\n",
        "  classifier = KNeighborsClassifier(n_neighbors=i)\n",
        "  classifier.fit(trainRed, trainVec.ravel())  \n",
        "  test_predict = classifier.predict(testRed)   \n",
        "  true_predicted_count=0\n",
        "  for j in range(0,200):\n",
        "     if test_predict[j] ==testVec[j]:\n",
        "       true_predicted_count+=1\n",
        "  accuracy=true_predicted_count/200\n",
        "  accuracy=accuracy*100\n",
        "  print(\"at k = \",i,\", accuracy = \", accuracy)\n",
        "  acc.append((true_predicted_count/200)*100)\n",
        "  \n",
        "    "
      ],
      "execution_count": null,
      "outputs": [
        {
          "output_type": "stream",
          "text": [
            "at k =  1 , accuracy =  95.0\n",
            "at k =  3 , accuracy =  88.0\n",
            "at k =  5 , accuracy =  79.5\n",
            "at k =  7 , accuracy =  76.5\n"
          ],
          "name": "stdout"
        }
      ]
    },
    {
      "cell_type": "code",
      "metadata": {
        "colab": {
          "base_uri": "https://localhost:8080/",
          "height": 296
        },
        "id": "I8kYSsHnd9O0",
        "outputId": "6695f0e1-a009-4881-a7e4-09dc9fe5c953"
      },
      "source": [
        "plt.plot(ks, acc)\n",
        "plt.xlabel('value of k')\n",
        "plt.ylabel('accuracy')  "
      ],
      "execution_count": null,
      "outputs": [
        {
          "output_type": "execute_result",
          "data": {
            "text/plain": [
              "Text(0, 0.5, 'accuracy')"
            ]
          },
          "metadata": {
            "tags": []
          },
          "execution_count": 23
        },
        {
          "output_type": "display_data",
          "data": {
            "image/png": "[encoded data removed]",
            "text/plain": [
              "<Figure size 432x288 with 1 Axes>"
            ]
          },
          "metadata": {
            "tags": [],
            "needs_background": "light"
          }
        }
      ]
    }
  ]
}